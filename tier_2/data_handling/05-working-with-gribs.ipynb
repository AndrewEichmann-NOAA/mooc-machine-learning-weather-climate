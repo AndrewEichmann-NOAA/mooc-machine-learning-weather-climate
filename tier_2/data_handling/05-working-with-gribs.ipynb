{
 "cells": [
  {
   "cell_type": "code",
   "execution_count": null,
   "metadata": {},
   "outputs": [],
   "source": [
    "!pip install --quiet climetlab"
   ]
  },
  {
   "attachments": {},
   "cell_type": "markdown",
   "metadata": {},
   "source": [
    "# Creating a shared dataset of GRIBs (Optional notebook)\n",
    "\n",
    "This notebook is here illustrate the process of creating a dataset directly based on CDS/MARS data. \n",
    "\n",
    "This notebook is optional because the CliMetLab feature used is experimental, the final API may change slightly and the data **may** need to be reindexed when changing CliMetLab version. For now, use it for research, do not use it for operations. "
   ]
  },
  {
   "cell_type": "code",
   "execution_count": null,
   "metadata": {},
   "outputs": [],
   "source": [
    "import climetlab as cml"
   ]
  },
  {
   "cell_type": "markdown",
   "metadata": {},
   "source": [
    "## Download data to the climetlab cache"
   ]
  },
  {
   "cell_type": "code",
   "execution_count": null,
   "metadata": {
    "tags": []
   },
   "outputs": [],
   "source": [
    "for month in range(1, 13): # This takes a few minutes.\n",
    "    cml.load_source(\n",
    "        \"mars\",\n",
    "        param=[\"2t\"],\n",
    "        levtype=\"sfc\",\n",
    "        area=[50, -50, 20, 50],\n",
    "        grid=[1, 1],\n",
    "        date=f\"2012-{month}\",\n",
    "    )\n"
   ]
  },
  {
   "cell_type": "code",
   "execution_count": null,
   "metadata": {},
   "outputs": [],
   "source": [
    "\n",
    "cml.load_source(\n",
    "    \"mars\",\n",
    "    param=\"msl\",\n",
    "    levtype=\"sfc\",\n",
    "    area=[50, -50, 20, 50],\n",
    "    grid=[1, 1],\n",
    "    date=\"2012-12-01\",\n",
    ");"
   ]
  },
  {
   "cell_type": "markdown",
   "metadata": {},
   "source": [
    "## Export the data to a shared directory\n",
    "\n",
    "This is optional, you could keep working on the data from the cache if you are the only user of the data and you do not mind redownloading it later.\n",
    "Other people should not use your cache:\n",
    "- When using climetlab the cache will eventually fills up and the data may be deleted automatically,\n",
    "- You will need to deal with permissions issues.\n",
    "- It will make it difficult to share the data with other people.\n",
    "\n",
    "Let us export the data to a shared directory `shared-data/temperature-for-analysis`"
   ]
  },
  {
   "cell_type": "code",
   "execution_count": null,
   "metadata": {},
   "outputs": [],
   "source": [
    "# Some housekeeping\n",
    "!rm -rf shared-data/temperature-for-analysis\n",
    "!mkdir -p shared-data/temperature-for-analysis"
   ]
  },
  {
   "cell_type": "code",
   "execution_count": null,
   "metadata": {},
   "outputs": [],
   "source": [
    "# export all data from my cache which is from mars and not older that 1 day\n",
    "!climetlab export_cache shared-data/temperature-for-analysis --newer 1h --match mars"
   ]
  },
  {
   "cell_type": "markdown",
   "metadata": {},
   "source": [
    "## Create indexes to speed up data access when using it. (Optional)"
   ]
  },
  {
   "cell_type": "code",
   "execution_count": null,
   "metadata": {},
   "outputs": [],
   "source": [
    "!climetlab index_directory shared-data/temperature-for-analysis"
   ]
  },
  {
   "cell_type": "code",
   "execution_count": null,
   "metadata": {},
   "outputs": [],
   "source": [
    "!climetlab availability shared-data/temperature-for-analysis"
   ]
  },
  {
   "cell_type": "markdown",
   "metadata": {},
   "source": [
    "## Using the data\n"
   ]
  },
  {
   "cell_type": "code",
   "execution_count": null,
   "metadata": {},
   "outputs": [],
   "source": [
    "DATA = \"shared-data/temperature-for-analysis\""
   ]
  },
  {
   "cell_type": "code",
   "execution_count": null,
   "metadata": {},
   "outputs": [],
   "source": [
    "source = cml.load_source('directory', DATA)"
   ]
  },
  {
   "cell_type": "code",
   "execution_count": null,
   "metadata": {},
   "outputs": [],
   "source": [
    "source.availability"
   ]
  },
  {
   "cell_type": "markdown",
   "metadata": {},
   "source": [
    "This is a good time to check the data, is all the data here? Are they missing dates? Parameters?\n",
    "\n",
    "The data is ready to be used as numpy, tensorflow or xarray object."
   ]
  },
  {
   "cell_type": "code",
   "execution_count": null,
   "metadata": {},
   "outputs": [],
   "source": [
    "source.sel(param='msl').to_numpy().mean()"
   ]
  },
  {
   "cell_type": "code",
   "execution_count": null,
   "metadata": {},
   "outputs": [],
   "source": [
    "cml.load_source('directory', DATA, param='msl').to_numpy().mean()"
   ]
  },
  {
   "cell_type": "code",
   "execution_count": null,
   "metadata": {},
   "outputs": [],
   "source": [
    "temp = source.sel(param='2t').order_by('date')\n",
    "temp.to_tfdataset()"
   ]
  },
  {
   "cell_type": "code",
   "execution_count": null,
   "metadata": {},
   "outputs": [],
   "source": [
    "temp.to_xarray()"
   ]
  },
  {
   "cell_type": "markdown",
   "metadata": {},
   "source": [
    "# Exercice\n",
    "\n",
    "1 - Download some data from the EFAS seasonal reforecast dataset from the CDS (https://cds.climate.copernicus.eu/cdsapp#!/dataset/efas-seasonal-reforecast?tab=form). \n",
    "\n",
    "2 - Export the data to a shared location.\n",
    "\n",
    "**Hint:**\n",
    "\n",
    "  You will need to create a CDS account.\n",
    "  \n",
    "  You may start with a request such as:"
   ]
  },
  {
   "cell_type": "code",
   "execution_count": null,
   "metadata": {},
   "outputs": [],
   "source": [
    "import climetlab as cml\n",
    "ds = cml.load_source('cds', 'efas-seasonal-reforecast',\n",
    "    **{\n",
    "        'variable': 'volumetric_soil_moisture',\n",
    "        'model_levels': 'soil_levels',\n",
    "        'soil_level': [ '1', '2', '3', ],\n",
    "        'hyear': '2019',\n",
    "        'hmonth': '05',\n",
    "        'leadtime_hour': [ '24', '48', '72'],\n",
    "        'format': 'grib',\n",
    "    })"
   ]
  },
  {
   "attachments": {},
   "cell_type": "markdown",
   "metadata": {},
   "source": [
    "3 - To go further:\n",
    "\n",
    "Create a dataset plugin to distribute your dataset. (Please do not upload your test dataset to pypi, use https://test.pypi.org for testing and learning purposes.)"
   ]
  }
 ],
 "metadata": {
  "kernelspec": {
   "display_name": "Python 3",
   "language": "python",
   "name": "python3"
  },
  "language_info": {
   "codemirror_mode": {
    "name": "ipython",
    "version": 3
   },
   "file_extension": ".py",
   "mimetype": "text/x-python",
   "name": "python",
   "nbconvert_exporter": "python",
   "pygments_lexer": "ipython3",
   "version": "3.11.1"
  },
  "vscode": {
   "interpreter": {
    "hash": "5c7b89af1651d0b8571dde13640ecdccf7d5a6204171d6ab33e7c296e100e08a"
   }
  }
 },
 "nbformat": 4,
 "nbformat_minor": 4
}
