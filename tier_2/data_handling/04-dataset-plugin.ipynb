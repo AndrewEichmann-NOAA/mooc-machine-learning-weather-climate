{
 "cells": [
  {
   "cell_type": "markdown",
   "metadata": {},
   "source": [
    "# Sharing code along with the data using CliMetLab\n"
   ]
  },
  {
   "cell_type": "markdown",
   "metadata": {},
   "source": [
    "**Objective**:\n",
    "\n",
    "The objective of this notebook is to illustrate how to create a climetlab dataset plugin for a dataset fomr these two file: `forecast_error.csv` and `soil_temperature.csv` (These files are located next to this notebook).\n",
    "\n",
    "There are three main steps:\n",
    "\n",
    "- Step 1: Create the plugin boilerplate structure using climetlab-plugin-tools.\n",
    "\n",
    "- Step 2: Add your code to the plugin.\n",
    "\n",
    "- Step 3: Push to github and publish to pypi (This is not covered here. See the general purpose tutorial about github and pipy)"
   ]
  },
  {
   "cell_type": "markdown",
   "metadata": {},
   "source": [
    "## How to run this exercise\n",
    "\n",
    "This exercise is in the form of a [Jupyter notebook](https://jupyter.org/). It can be \"run\" in a number of free cloud based environments (see two options below). These require no installation. When you click on one of the links below ([`Open in Colab`](https://colab.research.google.com/github/ecmwf-projects/mooc-machine-learning-weather-climate/blob/main/tier_2/data_handling/04-dataset-plugin.ipynb) or [`Launch in Deepnote`](https://deepnote.com/launch?url=https://github.com/ecmwf-projects/mooc-machine-learning-weather-climate/blob/main/tier_2/data_handling/04-dataset-plugin.ipynb)) you will be prompted to create a free account, after which you will see the same page you see here. You can run each block of code by selecting shift+control repeatedly, or by selecting the \"play\" icon. \n",
    "\n",
    "Advanced users may wish to run this exercise on their own computers by first installing [Python](https://www.python.org/downloads/), [Jupyter](https://jupyter.org/install) and [CliMetLab](https://climetlab.readthedocs.io/en/latest/installing.html)."
   ]
  },
  {
   "cell_type": "markdown",
   "metadata": {},
   "source": [
    "<style>\n",
    "td, th {\n",
    "   border: 1px solid white;\n",
    "   border-collapse: collapse;\n",
    "}\n",
    "</style>\n",
    "<table align=\"left\">\n",
    "  <tr>\n",
    "    <th>Run the tutorial via free cloud platforms: </th>\n",
    "    <th><a href=\"https://colab.research.google.com/github/ecmwf-projects/mooc-machine-learning-weather-climate/blob/main/tier_2/data_handling/04-dataset-plugin.ipynb\">\n",
    "        <img src = \"https://colab.research.google.com/assets/colab-badge.svg\" alt = \"Colab\"></th>\n",
    "    <th><a href=\"https://deepnote.com/launch?url=https://github.com/ecmwf-projects/mooc-machine-learning-weather-climate/blob/main/tier_2/data_handling/04-dataset-plugin.ipynb\">\n",
    "        <img src = \"https://deepnote.com/buttons/launch-in-deepnote-small.svg\" alt = \"Kaggle\"></th>\n",
    "  </tr>\n",
    "</table>"
   ]
  },
  {
   "cell_type": "markdown",
   "metadata": {},
   "source": [
    "## Let's begin the exercise..."
   ]
  },
  {
   "cell_type": "code",
   "execution_count": null,
   "metadata": {},
   "outputs": [
    {
     "name": "stdout",
     "output_type": "stream",
     "text": [
      "Note: you may need to restart the kernel to use updated packages.\n"
     ]
    }
   ],
   "source": [
    "pip install climetlab --quiet"
   ]
  },
  {
   "cell_type": "code",
   "execution_count": 1,
   "metadata": {},
   "outputs": [
    {
     "name": "stdout",
     "output_type": "stream",
     "text": [
      "forecast_error.csv  soil_temperature.csv\n"
     ]
    }
   ],
   "source": [
    "!ls *.csv"
   ]
  },
  {
   "cell_type": "markdown",
   "metadata": {},
   "source": [
    "#### Step 1: Create the plugin boilerplate structure using climetlab-plugin-tools."
   ]
  },
  {
   "cell_type": "code",
   "execution_count": null,
   "metadata": {},
   "outputs": [],
   "source": [
    "!climetlab help"
   ]
  },
  {
   "cell_type": "markdown",
   "metadata": {},
   "source": [
    "Climetlab plugin tools are packaged separately, we need to install them as a plugin in order to have the shell command `climetlab create_plugin_dataset` available."
   ]
  },
  {
   "cell_type": "code",
   "execution_count": null,
   "metadata": {},
   "outputs": [],
   "source": [
    "!pip install climetlab-plugin-tools --quiet"
   ]
  },
  {
   "cell_type": "code",
   "execution_count": null,
   "metadata": {},
   "outputs": [],
   "source": [
    "!climetlab help"
   ]
  },
  {
   "attachments": {},
   "cell_type": "markdown",
   "metadata": {
    "vscode": {
     "languageId": "shellscript"
    }
   },
   "source": [
    "Run from a shell terminal:\n",
    "\n",
    "$ climetlab\n",
    "\n",
    "(climetlab) plugin_plugin_dataset\n",
    "\n",
    "Answer questions...\n",
    "\n",
    "A new folder has now been created with all the code required to have a proper pip python package and have code included in a climetlab dataset plugin."
   ]
  },
  {
   "cell_type": "markdown",
   "metadata": {},
   "source": [
    "#### Step 2: Add your code to the plugin.\n",
    "\n",
    "The previous created boilerplate code, let us now write some actual code to link it to the data.\n",
    "\n",
    "Here is the file you want to edit."
   ]
  },
  {
   "cell_type": "code",
   "execution_count": null,
   "metadata": {},
   "outputs": [],
   "source": [
    "!ls climetlab-*/climetlab_*/*.py"
   ]
  },
  {
   "cell_type": "code",
   "execution_count": null,
   "metadata": {},
   "outputs": [],
   "source": [
    "from climetlab.decorators import normalize\n",
    "\n",
    "@normalize(\"parameter\", [\"tp\", \"t2m\"])\n",
    "def __init__(self, year, parameter):\n",
    "    request = dict(parameter=parameter, url=URL, year=year)\n",
    "    self.source = cml.load_source(\"url-pattern\", PATTERN, request)"
   ]
  },
  {
   "cell_type": "markdown",
   "metadata": {},
   "source": [
    "Let us edit this part and change it to:"
   ]
  },
  {
   "cell_type": "code",
   "execution_count": null,
   "metadata": {},
   "outputs": [],
   "source": [
    "def __init__(self, parameter):\n",
    "    self.source = cml.load_source(\"file\", parameter + '.csv')\n",
    "    # For a real plugin use \"url\" or \"url-pattern\" sources:\n",
    "    # self.source = cml.load_source(\"url\", URL_PREFIX + parameter + '.csv')\n",
    "    # self.source = cml.load_source(\"url-pattern\", PATTERN, {\"parameter\": parameter} )"
   ]
  },
  {
   "attachments": {},
   "cell_type": "markdown",
   "metadata": {},
   "source": [
    "The `pip` plugin package need now to be installed. \n",
    "\n",
    "As an example a plugin is available next to this notebook in `./climetlab-my-plugin-solution`. Adapt the name use the plugin name you defined."
   ]
  },
  {
   "cell_type": "code",
   "execution_count": null,
   "metadata": {},
   "outputs": [],
   "source": [
    "# !pip install -e ./climetlab-my-plugin        # installing your own plugin\n",
    "# !pip install -e ./climetlab-your-plugin-name # installing your own plugin\n",
    "\n",
    "!pip install -e ./climetlab-my-plugin-solution # installing the solution plugin"
   ]
  },
  {
   "attachments": {},
   "cell_type": "markdown",
   "metadata": {},
   "source": [
    "\n",
    "Note: using -e with pip\n",
    "Warning for Jupyter users: you may need to restart your python notebook.\n"
   ]
  },
  {
   "cell_type": "markdown",
   "metadata": {},
   "source": [
    "Let us test this. From a notebook or from ipython or from a python script:"
   ]
  },
  {
   "cell_type": "code",
   "execution_count": null,
   "metadata": {},
   "outputs": [],
   "source": [
    "import climetlab as cml \n",
    "ds = cml.load_dataset('my-plugin', parameter = 'soil_temperature')\n",
    "ds.to_pandas()\n"
   ]
  },
  {
   "cell_type": "code",
   "execution_count": null,
   "metadata": {},
   "outputs": [],
   "source": [
    "ds = cml.load_dataset('my-plugin', parameter = 'forecast_error')\n",
    "ds.to_pandas()"
   ]
  },
  {
   "cell_type": "markdown",
   "metadata": {},
   "source": [
    "# Improving data usability\n",
    "Data can be access as panda dataframe. Can we do better to help the end-user handling the data?\n",
    "\n",
    "What about helping them fixing a typo?"
   ]
  },
  {
   "cell_type": "code",
   "execution_count": 3,
   "metadata": {},
   "outputs": [
    {
     "name": "stdout",
     "output_type": "stream",
     "text": [
      "By downloading data from this dataset, you agree to the terms and conditions defined at https://github.com/john_doe/climetlab-my-plugin/blob/main/LICENSE. If you do not agree with such terms, do not download the data. \n"
     ]
    },
    {
     "ename": "FileNotFoundError",
     "evalue": "[Errno 2] No such file or directory: 'soiltemperature.csv'",
     "output_type": "error",
     "traceback": [
      "\u001b[0;31m---------------------------------------------------------------------------\u001b[0m",
      "\u001b[0;31mFileNotFoundError\u001b[0m                         Traceback (most recent call last)",
      "Cell \u001b[0;32mIn [3], line 2\u001b[0m\n\u001b[1;32m      1\u001b[0m \u001b[39mimport\u001b[39;00m \u001b[39mclimetlab\u001b[39;00m \u001b[39mas\u001b[39;00m \u001b[39mcml\u001b[39;00m\n\u001b[0;32m----> 2\u001b[0m cml\u001b[39m.\u001b[39;49mload_dataset(\u001b[39m'\u001b[39;49m\u001b[39mmy-plugin\u001b[39;49m\u001b[39m'\u001b[39;49m, parameter \u001b[39m=\u001b[39;49m \u001b[39m'\u001b[39;49m\u001b[39msoiltemperature\u001b[39;49m\u001b[39m'\u001b[39;49m)\n",
      "File \u001b[0;32m~/dev/climetlab/climetlab/datasets/__init__.py:269\u001b[0m, in \u001b[0;36mload_dataset\u001b[0;34m(name, *args, **kwargs)\u001b[0m\n\u001b[1;32m    266\u001b[0m         \u001b[39mprint\u001b[39m(klass\u001b[39m.\u001b[39mterms_of_use)\n\u001b[1;32m    267\u001b[0m     TERMS_OF_USE_SHOWN\u001b[39m.\u001b[39madd(name)\n\u001b[0;32m--> 269\u001b[0m ds \u001b[39m=\u001b[39m klass(\u001b[39m*\u001b[39;49margs, \u001b[39m*\u001b[39;49m\u001b[39m*\u001b[39;49mkwargs)\u001b[39m.\u001b[39mmutate()\n\u001b[1;32m    270\u001b[0m \u001b[39mif\u001b[39;00m \u001b[39mgetattr\u001b[39m(ds, \u001b[39m\"\u001b[39m\u001b[39mname\u001b[39m\u001b[39m\"\u001b[39m, \u001b[39mNone\u001b[39;00m) \u001b[39mis\u001b[39;00m \u001b[39mNone\u001b[39;00m:\n\u001b[1;32m    271\u001b[0m     ds\u001b[39m.\u001b[39mname \u001b[39m=\u001b[39m name\n",
      "File \u001b[0;32m~/dev/climetlab/climetlab/core/__init__.py:21\u001b[0m, in \u001b[0;36mMetaBase.__call__\u001b[0;34m(cls, *args, **kwargs)\u001b[0m\n\u001b[1;32m     19\u001b[0m obj \u001b[39m=\u001b[39m \u001b[39mcls\u001b[39m\u001b[39m.\u001b[39m\u001b[39m__new__\u001b[39m(\u001b[39mcls\u001b[39m, \u001b[39m*\u001b[39margs, \u001b[39m*\u001b[39m\u001b[39m*\u001b[39mkwargs)\n\u001b[1;32m     20\u001b[0m args, kwargs \u001b[39m=\u001b[39m \u001b[39mcls\u001b[39m\u001b[39m.\u001b[39mpatch(obj, \u001b[39m*\u001b[39margs, \u001b[39m*\u001b[39m\u001b[39m*\u001b[39mkwargs)\n\u001b[0;32m---> 21\u001b[0m obj\u001b[39m.\u001b[39;49m\u001b[39m__init__\u001b[39;49m(\u001b[39m*\u001b[39;49margs, \u001b[39m*\u001b[39;49m\u001b[39m*\u001b[39;49mkwargs)\n\u001b[1;32m     22\u001b[0m \u001b[39mreturn\u001b[39;00m obj\n",
      "File \u001b[0;32m~/dev/mooc-machine-learning-weather-climate/tier_2/data_handling/climetlab-my-plugin-solution/climetlab_my_plugin/main.py:37\u001b[0m, in \u001b[0;36mMain.__init__\u001b[0;34m(self, parameter)\u001b[0m\n\u001b[1;32m     36\u001b[0m \u001b[39mdef\u001b[39;00m \u001b[39m__init__\u001b[39m(\u001b[39mself\u001b[39m, parameter):\n\u001b[0;32m---> 37\u001b[0m     \u001b[39mself\u001b[39m\u001b[39m.\u001b[39msource \u001b[39m=\u001b[39m cml\u001b[39m.\u001b[39;49mload_source(\u001b[39m\"\u001b[39;49m\u001b[39mfile\u001b[39;49m\u001b[39m\"\u001b[39;49m, parameter \u001b[39m+\u001b[39;49m \u001b[39m\"\u001b[39;49m\u001b[39m.csv\u001b[39;49m\u001b[39m\"\u001b[39;49m)\n",
      "File \u001b[0;32m~/dev/climetlab/climetlab/sources/__init__.py:163\u001b[0m, in \u001b[0;36mload_source\u001b[0;34m(name, lazily, *args, **kwargs)\u001b[0m\n\u001b[1;32m    161\u001b[0m \u001b[39mwhile\u001b[39;00m src \u001b[39mis\u001b[39;00m \u001b[39mnot\u001b[39;00m prev:\n\u001b[1;32m    162\u001b[0m     prev \u001b[39m=\u001b[39m src\n\u001b[0;32m--> 163\u001b[0m     src \u001b[39m=\u001b[39m src\u001b[39m.\u001b[39;49mmutate()\n\u001b[1;32m    164\u001b[0m \u001b[39mreturn\u001b[39;00m src\n",
      "File \u001b[0;32m~/dev/climetlab/climetlab/sources/file.py:54\u001b[0m, in \u001b[0;36mFileSource.mutate\u001b[0;34m(self)\u001b[0m\n\u001b[1;32m     45\u001b[0m         \u001b[39mreturn\u001b[39;00m load_source(\n\u001b[1;32m     46\u001b[0m             \u001b[39m\"\u001b[39m\u001b[39mmulti\u001b[39m\u001b[39m\"\u001b[39m,\n\u001b[1;32m     47\u001b[0m             [load_source(\u001b[39m\"\u001b[39m\u001b[39mfile\u001b[39m\u001b[39m\"\u001b[39m, p) \u001b[39mfor\u001b[39;00m p \u001b[39min\u001b[39;00m \u001b[39mself\u001b[39m\u001b[39m.\u001b[39mpath],\n\u001b[1;32m     48\u001b[0m             \u001b[39mfilter\u001b[39m\u001b[39m=\u001b[39m\u001b[39mself\u001b[39m\u001b[39m.\u001b[39mfilter,\n\u001b[1;32m     49\u001b[0m             merger\u001b[39m=\u001b[39m\u001b[39mself\u001b[39m\u001b[39m.\u001b[39mmerger,\n\u001b[1;32m     50\u001b[0m         )\n\u001b[1;32m     52\u001b[0m \u001b[39m# Give a chance to directories and zip files\u001b[39;00m\n\u001b[1;32m     53\u001b[0m \u001b[39m# to return a multi-source\u001b[39;00m\n\u001b[0;32m---> 54\u001b[0m source \u001b[39m=\u001b[39m \u001b[39mself\u001b[39;49m\u001b[39m.\u001b[39;49m_reader\u001b[39m.\u001b[39mmutate_source()\n\u001b[1;32m     55\u001b[0m \u001b[39mif\u001b[39;00m source \u001b[39mnot\u001b[39;00m \u001b[39min\u001b[39;00m (\u001b[39mNone\u001b[39;00m, \u001b[39mself\u001b[39m):\n\u001b[1;32m     56\u001b[0m     source\u001b[39m.\u001b[39m_parent \u001b[39m=\u001b[39m \u001b[39mself\u001b[39m\n",
      "File \u001b[0;32m~/dev/climetlab/climetlab/sources/file.py:73\u001b[0m, in \u001b[0;36mFileSource._reader\u001b[0;34m(self)\u001b[0m\n\u001b[1;32m     70\u001b[0m \u001b[39m@property\u001b[39m\n\u001b[1;32m     71\u001b[0m \u001b[39mdef\u001b[39;00m \u001b[39m_reader\u001b[39m(\u001b[39mself\u001b[39m):\n\u001b[1;32m     72\u001b[0m     \u001b[39mif\u001b[39;00m \u001b[39mself\u001b[39m\u001b[39m.\u001b[39m_reader_ \u001b[39mis\u001b[39;00m \u001b[39mNone\u001b[39;00m:\n\u001b[0;32m---> 73\u001b[0m         \u001b[39mself\u001b[39m\u001b[39m.\u001b[39m_reader_ \u001b[39m=\u001b[39m reader(\u001b[39mself\u001b[39;49m, \u001b[39mself\u001b[39;49m\u001b[39m.\u001b[39;49mpath)\n\u001b[1;32m     74\u001b[0m     \u001b[39mreturn\u001b[39;00m \u001b[39mself\u001b[39m\u001b[39m.\u001b[39m_reader_\n",
      "File \u001b[0;32m~/dev/climetlab/climetlab/readers/__init__.py:136\u001b[0m, in \u001b[0;36mreader\u001b[0;34m(source, path)\u001b[0m\n\u001b[1;32m    133\u001b[0m     \u001b[39mreturn\u001b[39;00m DirectoryReader(source, path)\u001b[39m.\u001b[39mmutate()\n\u001b[1;32m    134\u001b[0m LOG\u001b[39m.\u001b[39mdebug(\u001b[39m\"\u001b[39m\u001b[39mReader for \u001b[39m\u001b[39m%s\u001b[39;00m\u001b[39m\"\u001b[39m, path)\n\u001b[0;32m--> 136\u001b[0m \u001b[39mwith\u001b[39;00m \u001b[39mopen\u001b[39;49m(path, \u001b[39m\"\u001b[39;49m\u001b[39mrb\u001b[39;49m\u001b[39m\"\u001b[39;49m) \u001b[39mas\u001b[39;00m f:\n\u001b[1;32m    137\u001b[0m     magic \u001b[39m=\u001b[39m f\u001b[39m.\u001b[39mread(\u001b[39m8\u001b[39m)\n\u001b[1;32m    139\u001b[0m LOG\u001b[39m.\u001b[39mdebug(\u001b[39m\"\u001b[39m\u001b[39mLooking for a reader for \u001b[39m\u001b[39m%s\u001b[39;00m\u001b[39m (\u001b[39m\u001b[39m%s\u001b[39;00m\u001b[39m)\u001b[39m\u001b[39m\"\u001b[39m, path, magic)\n",
      "\u001b[0;31mFileNotFoundError\u001b[0m: [Errno 2] No such file or directory: 'soiltemperature.csv'"
     ]
    }
   ],
   "source": [
    "import climetlab as cml\n",
    "cml.load_dataset('my-plugin', parameter = 'soiltemperature')"
   ]
  },
  {
   "attachments": {},
   "cell_type": "markdown",
   "metadata": {},
   "source": [
    "Let us replace this error message \n",
    "\n",
    "\t`FileNotFoundError: [Errno 2] No such file or directory: 'soiltemperature.csv'`\n",
    "\n",
    "by a more helpful error message such as:\n",
    "\n",
    "\t`Invalid value 'soiltemperature', possible values are ['soil_temperature', 'forecast_error'] (EnumSingleOrListType)`"
   ]
  },
  {
   "cell_type": "code",
   "execution_count": null,
   "metadata": {},
   "outputs": [],
   "source": [
    "# Add the climetlab decorator `@normalize`\n",
    "from climetlab.decorators import normalize\n",
    "\n",
    "@normalize(\"parameter\", ['soil_temperature', 'forecast_error'])\n",
    "def __init__(self, parameter):\n",
    "    self.source = cml.load_source(\"file\", parameter + '.csv')\n",
    "\n",
    "# And retry previous cell (You may need to restart kernel after doing pip install)\n",
    "\n",
    "# If you installed the plugin package with -e, you do not need to reinstall it.\n",
    "# If you did not use -e, you need to reinstall the plugin package to update it."
   ]
  },
  {
   "cell_type": "code",
   "execution_count": 5,
   "metadata": {},
   "outputs": [
    {
     "ename": "ValueError",
     "evalue": "Invalid value 'soiltemperature', possible values are ['soil_temperature', 'forecast_error'] (EnumSingleOrListType)",
     "output_type": "error",
     "traceback": [
      "\u001b[0;31m---------------------------------------------------------------------------\u001b[0m",
      "\u001b[0;31mValueError\u001b[0m                                Traceback (most recent call last)",
      "Cell \u001b[0;32mIn [5], line 2\u001b[0m\n\u001b[1;32m      1\u001b[0m \u001b[39mimport\u001b[39;00m \u001b[39mclimetlab\u001b[39;00m \u001b[39mas\u001b[39;00m \u001b[39mcml\u001b[39;00m\n\u001b[0;32m----> 2\u001b[0m cml\u001b[39m.\u001b[39;49mload_dataset(\u001b[39m'\u001b[39;49m\u001b[39mmy-plugin\u001b[39;49m\u001b[39m'\u001b[39;49m, parameter \u001b[39m=\u001b[39;49m \u001b[39m'\u001b[39;49m\u001b[39msoiltemperature\u001b[39;49m\u001b[39m'\u001b[39;49m)\n",
      "File \u001b[0;32m~/dev/climetlab/climetlab/datasets/__init__.py:269\u001b[0m, in \u001b[0;36mload_dataset\u001b[0;34m(name, *args, **kwargs)\u001b[0m\n\u001b[1;32m    266\u001b[0m         \u001b[39mprint\u001b[39m(klass\u001b[39m.\u001b[39mterms_of_use)\n\u001b[1;32m    267\u001b[0m     TERMS_OF_USE_SHOWN\u001b[39m.\u001b[39madd(name)\n\u001b[0;32m--> 269\u001b[0m ds \u001b[39m=\u001b[39m klass(\u001b[39m*\u001b[39;49margs, \u001b[39m*\u001b[39;49m\u001b[39m*\u001b[39;49mkwargs)\u001b[39m.\u001b[39mmutate()\n\u001b[1;32m    270\u001b[0m \u001b[39mif\u001b[39;00m \u001b[39mgetattr\u001b[39m(ds, \u001b[39m\"\u001b[39m\u001b[39mname\u001b[39m\u001b[39m\"\u001b[39m, \u001b[39mNone\u001b[39;00m) \u001b[39mis\u001b[39;00m \u001b[39mNone\u001b[39;00m:\n\u001b[1;32m    271\u001b[0m     ds\u001b[39m.\u001b[39mname \u001b[39m=\u001b[39m name\n",
      "File \u001b[0;32m~/dev/climetlab/climetlab/core/__init__.py:21\u001b[0m, in \u001b[0;36mMetaBase.__call__\u001b[0;34m(cls, *args, **kwargs)\u001b[0m\n\u001b[1;32m     19\u001b[0m obj \u001b[39m=\u001b[39m \u001b[39mcls\u001b[39m\u001b[39m.\u001b[39m\u001b[39m__new__\u001b[39m(\u001b[39mcls\u001b[39m, \u001b[39m*\u001b[39margs, \u001b[39m*\u001b[39m\u001b[39m*\u001b[39mkwargs)\n\u001b[1;32m     20\u001b[0m args, kwargs \u001b[39m=\u001b[39m \u001b[39mcls\u001b[39m\u001b[39m.\u001b[39mpatch(obj, \u001b[39m*\u001b[39margs, \u001b[39m*\u001b[39m\u001b[39m*\u001b[39mkwargs)\n\u001b[0;32m---> 21\u001b[0m obj\u001b[39m.\u001b[39;49m\u001b[39m__init__\u001b[39;49m(\u001b[39m*\u001b[39;49margs, \u001b[39m*\u001b[39;49m\u001b[39m*\u001b[39;49mkwargs)\n\u001b[1;32m     22\u001b[0m \u001b[39mreturn\u001b[39;00m obj\n",
      "File \u001b[0;32m~/dev/climetlab/climetlab/decorators.py:76\u001b[0m, in \u001b[0;36mDecorator.__call__.<locals>.newfunc\u001b[0;34m(*args, **kwargs)\u001b[0m\n\u001b[1;32m     74\u001b[0m \u001b[39m@functools\u001b[39m\u001b[39m.\u001b[39mwraps(unwrapped)\n\u001b[1;32m     75\u001b[0m \u001b[39mdef\u001b[39;00m \u001b[39mnewfunc\u001b[39m(\u001b[39m*\u001b[39margs, \u001b[39m*\u001b[39m\u001b[39m*\u001b[39mkwargs):\n\u001b[0;32m---> 76\u001b[0m     args, kwargs \u001b[39m=\u001b[39m manager\u001b[39m.\u001b[39;49mapply_to_arg_kwargs(args, kwargs, func\u001b[39m=\u001b[39;49munwrapped)\n\u001b[1;32m     77\u001b[0m     \u001b[39mreturn\u001b[39;00m unwrapped(\u001b[39m*\u001b[39margs, \u001b[39m*\u001b[39m\u001b[39m*\u001b[39mkwargs)\n",
      "File \u001b[0;32m~/dev/climetlab/climetlab/arguments/input_manager.py:157\u001b[0m, in \u001b[0;36mInputManager.apply_to_arg_kwargs\u001b[0;34m(self, args, kwargs, func)\u001b[0m\n\u001b[1;32m    154\u001b[0m \u001b[39mself\u001b[39m\u001b[39m.\u001b[39mconsolidate_defaults(args_kwargs\u001b[39m.\u001b[39mdefaults)\n\u001b[1;32m    156\u001b[0m LOG\u001b[39m.\u001b[39mdebug(\u001b[39m\"\u001b[39m\u001b[39mApplying decorator stack to: \u001b[39m\u001b[39m%s\u001b[39;00m\u001b[39m \u001b[39m\u001b[39m%s\u001b[39;00m\u001b[39m\"\u001b[39m, args, kwargs)\n\u001b[0;32m--> 157\u001b[0m args_kwargs\u001b[39m.\u001b[39mkwargs \u001b[39m=\u001b[39m \u001b[39mself\u001b[39;49m\u001b[39m.\u001b[39;49mapply_to_kwargs(args_kwargs\u001b[39m.\u001b[39;49mkwargs)\n\u001b[1;32m    159\u001b[0m args_kwargs\u001b[39m.\u001b[39mensure_positionals_only()\n\u001b[1;32m    161\u001b[0m args, kwargs \u001b[39m=\u001b[39m args_kwargs\u001b[39m.\u001b[39margs, args_kwargs\u001b[39m.\u001b[39mkwargs\n",
      "File \u001b[0;32m~/dev/climetlab/climetlab/arguments/input_manager.py:104\u001b[0m, in \u001b[0;36mInputManager.apply_to_kwargs\u001b[0;34m(self, kwargs)\u001b[0m\n\u001b[1;32m    101\u001b[0m     \u001b[39melse\u001b[39;00m:\n\u001b[1;32m    102\u001b[0m         LOG\u001b[39m.\u001b[39mdebug(\u001b[39mf\u001b[39m\u001b[39m\"\u001b[39m\u001b[39m - apply \u001b[39m\u001b[39m{\u001b[39;00mt\u001b[39m}\u001b[39;00m\u001b[39m.\u001b[39m\u001b[39m\"\u001b[39m)\n\u001b[0;32m--> 104\u001b[0m     kwargs \u001b[39m=\u001b[39m t\u001b[39m.\u001b[39;49mexecute(kwargs)\n\u001b[1;32m    105\u001b[0m     LOG\u001b[39m.\u001b[39mdebug(\u001b[39mf\u001b[39m\u001b[39m\"\u001b[39m\u001b[39m       kwargs: \u001b[39m\u001b[39m{\u001b[39;00msafe_to_str(kwargs)\u001b[39m}\u001b[39;00m\u001b[39m\"\u001b[39m)\n\u001b[1;32m    107\u001b[0m \u001b[39mreturn\u001b[39;00m kwargs\n",
      "File \u001b[0;32m~/dev/climetlab/climetlab/arguments/transformers.py:42\u001b[0m, in \u001b[0;36mArgumentTransformer.execute\u001b[0;34m(self, kwargs)\u001b[0m\n\u001b[1;32m     40\u001b[0m \u001b[39mdef\u001b[39;00m \u001b[39mexecute\u001b[39m(\u001b[39mself\u001b[39m, kwargs):\n\u001b[1;32m     41\u001b[0m     \u001b[39mif\u001b[39;00m \u001b[39mself\u001b[39m\u001b[39m.\u001b[39mname \u001b[39min\u001b[39;00m kwargs:  \u001b[39m# TODO: discuss that\u001b[39;00m\n\u001b[0;32m---> 42\u001b[0m         kwargs[\u001b[39mself\u001b[39m\u001b[39m.\u001b[39mname] \u001b[39m=\u001b[39m \u001b[39mself\u001b[39;49m\u001b[39m.\u001b[39;49mtransform(kwargs[\u001b[39mself\u001b[39;49m\u001b[39m.\u001b[39;49mname])\n\u001b[1;32m     43\u001b[0m     \u001b[39mreturn\u001b[39;00m kwargs\n",
      "File \u001b[0;32m~/dev/climetlab/climetlab/arguments/transformers.py:139\u001b[0m, in \u001b[0;36mTypeTransformer.transform\u001b[0;34m(self, value)\u001b[0m\n\u001b[1;32m    137\u001b[0m \u001b[39mif\u001b[39;00m value \u001b[39mis\u001b[39;00m \u001b[39mNone\u001b[39;00m:\n\u001b[1;32m    138\u001b[0m     \u001b[39mreturn\u001b[39;00m value\n\u001b[0;32m--> 139\u001b[0m \u001b[39mreturn\u001b[39;00m \u001b[39mself\u001b[39;49m\u001b[39m.\u001b[39;49mtype\u001b[39m.\u001b[39;49mcast(value)\n",
      "File \u001b[0;32m~/dev/climetlab/climetlab/arguments/climetlab_types.py:53\u001b[0m, in \u001b[0;36mSingleOrListMixin.cast\u001b[0;34m(self, value)\u001b[0m\n\u001b[1;32m     51\u001b[0m \u001b[39mif\u001b[39;00m \u001b[39misinstance\u001b[39m(value, \u001b[39mtuple\u001b[39m):\n\u001b[1;32m     52\u001b[0m     \u001b[39mreturn\u001b[39;00m \u001b[39mtuple\u001b[39m([\u001b[39mself\u001b[39m\u001b[39m.\u001b[39m_cast(v) \u001b[39mfor\u001b[39;00m v \u001b[39min\u001b[39;00m value])\n\u001b[0;32m---> 53\u001b[0m \u001b[39mreturn\u001b[39;00m \u001b[39mself\u001b[39;49m\u001b[39m.\u001b[39;49m_cast(value)\n",
      "File \u001b[0;32m~/dev/climetlab/climetlab/arguments/climetlab_types.py:99\u001b[0m, in \u001b[0;36m_EnumType._cast\u001b[0;34m(self, value)\u001b[0m\n\u001b[1;32m     96\u001b[0m     \u001b[39mif\u001b[39;00m same(value, v):\n\u001b[1;32m     97\u001b[0m         \u001b[39mreturn\u001b[39;00m v\n\u001b[0;32m---> 99\u001b[0m \u001b[39mraise\u001b[39;00m \u001b[39mValueError\u001b[39;00m(\n\u001b[1;32m    100\u001b[0m     \u001b[39mf\u001b[39m\u001b[39m\"\u001b[39m\u001b[39mInvalid value \u001b[39m\u001b[39m'\u001b[39m\u001b[39m{\u001b[39;00mvalue\u001b[39m}\u001b[39;00m\u001b[39m'\u001b[39m\u001b[39m, possible values are \u001b[39m\u001b[39m{\u001b[39;00m\u001b[39mself\u001b[39m\u001b[39m.\u001b[39mvalues\u001b[39m}\u001b[39;00m\u001b[39m (\u001b[39m\u001b[39m{\u001b[39;00m\u001b[39mself\u001b[39m\u001b[39m.\u001b[39m\u001b[39m__class__\u001b[39m\u001b[39m.\u001b[39m\u001b[39m__name__\u001b[39m\u001b[39m}\u001b[39;00m\u001b[39m)\u001b[39m\u001b[39m\"\u001b[39m\n\u001b[1;32m    101\u001b[0m )\n",
      "\u001b[0;31mValueError\u001b[0m: Invalid value 'soiltemperature', possible values are ['soil_temperature', 'forecast_error'] (EnumSingleOrListType)"
     ]
    }
   ],
   "source": [
    "import climetlab as cml\n",
    "# cml.load_dataset('my-plugin', parameter = 'soiltemperature')"
   ]
  },
  {
   "cell_type": "markdown",
   "metadata": {},
   "source": [
    "This also take care of user using capitals:"
   ]
  },
  {
   "cell_type": "code",
   "execution_count": null,
   "metadata": {},
   "outputs": [],
   "source": [
    "import climetlab as cml\n",
    "ds = cml.load_dataset('my-plugin', parameter = 'SOIL_TEMPERATURE') # ok\n",
    "ds = cml.load_dataset('my-plugin', parameter = 'Soil_Temperature') # ok"
   ]
  },
  {
   "cell_type": "markdown",
   "metadata": {},
   "source": [
    "## Dates time parameters\n",
    "Date and time as some ubiquitous in the climate and meteorology domains that we have developed specific tools to handle these input arguments.\n",
    "\n",
    "Similar to `@normalize(\"parameter\", ['soil_temperature', 'forecast_error'])`\n",
    "\n",
    "Adding `@normalize(\"argument\", \"date(%Y-%m-%d)\")` transforms the input as a string with the requested format.\n",
    "\n",
    "Relevant CliMetLab documentation: https://climetlab.readthedocs.io/en/latest/contributing/normalize.html"
   ]
  },
  {
   "cell_type": "markdown",
   "metadata": {},
   "source": [
    "# CliMetLab dataset plugin blueprint features\n",
    "\n",
    "Here is a minimal example: https://github.com/ecmwf/climetlab-demo-dataset\n",
    "\n",
    "Here is a real-life example: https://github.com/mchantry/climetlab-mltc-surface-observation-postprocessing\n",
    "\n",
    "- Python pip package structure:\n",
    "\t- setup.py + MANIFEST\n",
    "\t- version file\n",
    "- README\n",
    "\t- Links to notebook in colab/binder/etc. \n",
    "- Examples in notebooks:\n",
    "\t- Used in README links\n",
    "\t- Tested in github actions.\n",
    "- Test in tests/*\n",
    "\t- Using pytest.\n",
    "\t- Used in github actions.\n",
    "- Github actions: yaml files in .github/workflows/*.yml\n",
    "\t- Check code quality\n",
    "\t- Run tests (fron tests/*.py) on various platform and python versions\n",
    "- Automated release of the pip package from github (need and account on pypi.org)\n",
    "\t- Make sure the tests pass.\n",
    "\t- Update the */version file\n",
    "\t- Trigger a release : https://docs.github.com/en/repositories/releasing-projects-on-github/managing-releases-in-a-repository\n",
    "- Legal stuff: LICENCE/AUTHOR/CONTRIBUTORS\n"
   ]
  },
  {
   "cell_type": "markdown",
   "metadata": {},
   "source": [
    "Compare to https://github.com/ecmwf/climetlab-demo-source/blob/master/climetlab_demo_source/__init__.py\n",
    "\n",
    "Compare to https://github.com/ecmwf-lab/climetlab-google-drive-source/blob/main/climetlab_google_drive_source/__init__.py"
   ]
  }
 ],
 "metadata": {
  "kernelspec": {
   "display_name": "tensorflow-metal",
   "language": "python",
   "name": "python3"
  },
  "language_info": {
   "codemirror_mode": {
    "name": "ipython",
    "version": 3
   },
   "file_extension": ".py",
   "mimetype": "text/x-python",
   "name": "python",
   "nbconvert_exporter": "python",
   "pygments_lexer": "ipython3",
   "version": "3.10.9"
  },
  "vscode": {
   "interpreter": {
    "hash": "4270e1ac5bef27d5e6a33f4883da48ffc137d9a63a21d2e4dad8cf8937cea50e"
   }
  }
 },
 "nbformat": 4,
 "nbformat_minor": 4
}
