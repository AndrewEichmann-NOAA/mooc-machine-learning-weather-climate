{
 "cells": [
  {
   "cell_type": "markdown",
   "metadata": {},
   "source": [
    "# Sharing code along with the data using CliMetLab\n"
   ]
  },
  {
   "cell_type": "markdown",
   "metadata": {},
   "source": [
    "**Objective**:\n",
    "\n",
    "The objective of this notebook is to illustrate how to create a climetlab dataset plugin for a dataset fomr these two file: `forecast_error.csv` and `soil_temperature.csv` (These files are located next to this notebook).\n",
    "\n",
    "There are three main steps:\n",
    "\n",
    "- Step 1: Create the plugin boilerplate structure using climetlab-plugin-tools.\n",
    "\n",
    "- Step 2: Add your code to the plugin.\n",
    "\n",
    "- Step 3: Push to github and publish to pypi (This is not covered here. See the general purpose tutorial about github and pipy)"
   ]
  },
  {
   "cell_type": "markdown",
   "metadata": {},
   "source": [
    "## How to run this exercise\n",
    "\n",
    "This exercise is in the form of a [Jupyter notebook](https://jupyter.org/). It can be \"run\" in a number of free cloud based environments (see three options below). These require no installation. When you click on one of the links below ([`Open in Colab`](https://colab.research.google.com/github/ecmwf-projects/mooc-machine-learning-weather-climate/blob/main/tier_2/data_handling/04-dataset-plugin.ipynb), [`Open in Kaggle`](https://kaggle.com/kernels/welcome?src=https://github.com/ecmwf-projects/mooc-machine-learning-weather-climate/blob/main/tier_2/data_handling/04-dataset-plugin.ipynb) or [`Launch in Deepnote`](https://deepnote.com/launch?url=https://github.com/ecmwf-projects/mooc-machine-learning-weather-climate/blob/main/tier_2/data_handling/04-dataset-plugin.ipynb)) you will be prompted to create a free account, after which you will see the same page you see here. You can run each block of code by selecting shift+control repeatedly, or by selecting the \"play\" icon. \n",
    "\n",
    "Advanced users may wish to run this exercise on their own computers by first installing [Python](https://www.python.org/downloads/), [Jupyter](https://jupyter.org/install) and [CliMetLab](https://climetlab.readthedocs.io/en/latest/installing.html)."
   ]
  },
  {
   "cell_type": "markdown",
   "metadata": {},
   "source": [
    "<style>\n",
    "td, th {\n",
    "   border: 1px solid white;\n",
    "   border-collapse: collapse;\n",
    "}\n",
    "</style>\n",
    "<table align=\"left\">\n",
    "  <tr>\n",
    "    <th>Run the tutorial via free cloud platforms: </th>\n",
    "    <th><a href=\"https://colab.research.google.com/github/ecmwf-projects/mooc-machine-learning-weather-climate/blob/main/tier_2/data_handling/04-dataset-plugin.ipynb\">\n",
    "        <img src = \"https://colab.research.google.com/assets/colab-badge.svg\" alt = \"Colab\"></th>\n",
    "    <th><a href=\"https://kaggle.com/kernels/welcome?src=https://github.com/ecmwf-projects/mooc-machine-learning-weather-climate/blob/main/tier_2/data_handling/04-dataset-plugin.ipynb\">\n",
    "        <img src = \"https://kaggle.com/static/images/open-in-kaggle.svg\" alt = \"Kaggle\"></th>\n",
    "    <th><a href=\"https://deepnote.com/launch?url=https://github.com/ecmwf-projects/mooc-machine-learning-weather-climate/blob/main/tier_2/data_handling/04-dataset-plugin.ipynb\">\n",
    "        <img src = \"https://deepnote.com/buttons/launch-in-deepnote-small.svg\" alt = \"Kaggle\"></th>\n",
    "  </tr>\n",
    "</table>"
   ]
  },
  {
   "cell_type": "markdown",
   "metadata": {},
   "source": [
    "Note that to use Kaggle, you need to enable an option on the notebook. Please follow the instructions here to do this https://stackoverflow.com/questions/68142524/cannot-access-internet-on-kaggle-notebook. "
   ]
  },
  {
   "cell_type": "markdown",
   "metadata": {},
   "source": [
    "## Let's begin the exercise..."
   ]
  },
  {
   "cell_type": "code",
   "execution_count": null,
   "metadata": {},
   "outputs": [
    {
     "name": "stdout",
     "output_type": "stream",
     "text": [
      "Note: you may need to restart the kernel to use updated packages.\n"
     ]
    }
   ],
   "source": [
    "pip install climetlab --quiet"
   ]
  },
  {
   "cell_type": "code",
   "execution_count": 1,
   "metadata": {},
   "outputs": [
    {
     "name": "stdout",
     "output_type": "stream",
     "text": [
      "forecast_error.csv  soil_temperature.csv\n"
     ]
    }
   ],
   "source": [
    "!ls *.csv"
   ]
  },
  {
   "cell_type": "markdown",
   "metadata": {},
   "source": [
    "#### Step 1: Create the plugin boilerplate structure using climetlab-plugin-tools."
   ]
  },
  {
   "cell_type": "code",
   "execution_count": null,
   "metadata": {},
   "outputs": [],
   "source": [
    "!climetlab help"
   ]
  },
  {
   "cell_type": "markdown",
   "metadata": {},
   "source": [
    "Climetlab plugin tools are packaged separately, we need to install them as a plugin in order to have the shell command `climetlab create_plugin_dataset` available."
   ]
  },
  {
   "cell_type": "code",
   "execution_count": null,
   "metadata": {},
   "outputs": [],
   "source": [
    "!pip install climetlab-plugin-tools --quiet"
   ]
  },
  {
   "cell_type": "code",
   "execution_count": null,
   "metadata": {},
   "outputs": [],
   "source": [
    "!climetlab help"
   ]
  },
  {
   "cell_type": "markdown",
   "metadata": {
    "vscode": {
     "languageId": "shellscript"
    }
   },
   "source": [
    "Run from a shell terminal:\n",
    "\n",
    "$ climetlab\n",
    "\n",
    "(climetlab) create_plugin_dataset\n",
    "\n",
    "Answer questions...\n",
    "\n",
    "A new folder has now been created with all the code required to have a proper pip python package and have code included in a climetlab dataset plugin."
   ]
  },
  {
   "cell_type": "markdown",
   "metadata": {},
   "source": [
    "#### Step 2: Add your code to the plugin.\n",
    "\n",
    "The previous created boilerplate code, let us now write some actual code to link it to the data.\n",
    "\n",
    "Here is the file you want to edit."
   ]
  },
  {
   "cell_type": "code",
   "execution_count": null,
   "metadata": {},
   "outputs": [],
   "source": [
    "!ls climetlab-*/climetlab_*/*.py"
   ]
  },
  {
   "cell_type": "code",
   "execution_count": null,
   "metadata": {},
   "outputs": [],
   "source": [
    "@normalize(\"parameter\", [\"tp\", \"t2m\"])\n",
    "def __init__(self, year, parameter):\n",
    "    request = dict(parameter=parameter, url=URL, year=year)\n",
    "    self.source = cml.load_source(\"url-pattern\", PATTERN, request)"
   ]
  },
  {
   "cell_type": "markdown",
   "metadata": {},
   "source": [
    "Let us edit this part and change it to:"
   ]
  },
  {
   "cell_type": "code",
   "execution_count": null,
   "metadata": {},
   "outputs": [],
   "source": [
    "def __init__(self, parameter):\n",
    "    self.source = cml.load_source(\"file\", parameter + '.csv')\n",
    "    # For a real plugin use \"url\" or \"url-pattern\" sources:\n",
    "    # self.source = cml.load_source(\"url\", URL_PREFIX + parameter + '.csv')\n",
    "    # self.source = cml.load_source(\"url-pattern\", PATTERN, {\"parameter\": parameter} )"
   ]
  },
  {
   "cell_type": "markdown",
   "metadata": {},
   "source": [
    "The `pip` package need now to be installed. \n",
    "\n",
    "`pip install -e ./climetlab-my-plugin/. # adapt the name use the plugin name you choosed`\n",
    "\n",
    "Note: using -e with pip\n",
    "Warning for Jupyter users: you may need to restart your python notebook.\n"
   ]
  },
  {
   "cell_type": "markdown",
   "metadata": {},
   "source": [
    "Let us test this. From a notebook or from ipython or from a python script:"
   ]
  },
  {
   "cell_type": "code",
   "execution_count": null,
   "metadata": {},
   "outputs": [],
   "source": [
    "import climetlab as cml \n",
    "ds = cml.load_dataset('my-plugin', parameter = 'soil_temperature')\n",
    "ds.to_pandas()\n"
   ]
  },
  {
   "cell_type": "code",
   "execution_count": null,
   "metadata": {},
   "outputs": [],
   "source": [
    "ds = cml.load_dataset('my-plugin', parameter = 'forecast_error')\n",
    "ds.to_pandas()"
   ]
  },
  {
   "cell_type": "markdown",
   "metadata": {},
   "source": [
    "# Improving data usability\n",
    "Data can be access as panda dataframe. Can we do better to help the end-user handling the data?\n",
    "\n",
    "What about helping them fixing a typo?"
   ]
  },
  {
   "cell_type": "code",
   "execution_count": null,
   "metadata": {},
   "outputs": [],
   "source": [
    "import climetlab as cml\n",
    "cml.load_dataset('my-plugin', parameter = 'soiltemperature')"
   ]
  },
  {
   "cell_type": "code",
   "execution_count": null,
   "metadata": {},
   "outputs": [],
   "source": [
    "# Add the climetlab decorator `@normalize`\n",
    "@normalize(\"parameter\", ['soil_temperature', 'forecast_error'])\n",
    "def __init__(self, parameter):\n",
    "    ...\n",
    "\n",
    "# And retry previous cell."
   ]
  },
  {
   "cell_type": "markdown",
   "metadata": {},
   "source": [
    "This also take care of user using capitals:"
   ]
  },
  {
   "cell_type": "code",
   "execution_count": null,
   "metadata": {},
   "outputs": [],
   "source": [
    "import climetlab as cml\n",
    "ds = cml.load_dataset('my-plugin', parameter = 'SOIL_TEMPERATURE') # ok\n",
    "ds = cml.load_dataset('my-plugin', parameter = 'Soil_Temperature') # ok"
   ]
  },
  {
   "cell_type": "markdown",
   "metadata": {},
   "source": [
    "## Dates time parameters\n",
    "Date and time as some ubiquitous in the climate and meteorology domains that we have developed specific tools to handle these input arguments.\n",
    "\n",
    "Similar to `@normalize(\"parameter\", ['soil_temperature', 'forecast_error'])`\n",
    "\n",
    "Adding `@normalize(\"argument\", \"date(%Y-%m-%d)\")` transforms the input as a string with the requested format.\n",
    "\n",
    "Relevant CliMetLab documentation: https://climetlab.readthedocs.io/en/latest/contributing/normalize.html"
   ]
  },
  {
   "cell_type": "markdown",
   "metadata": {},
   "source": [
    "# CliMetLab dataset plugin blueprint features\n",
    "\n",
    "Here is a minimal example: https://github.com/ecmwf/climetlab-demo-dataset\n",
    "\n",
    "Here is a real-life example: https://github.com/mchantry/climetlab-mltc-surface-observation-postprocessing\n",
    "\n",
    "- Python pip package structure:\n",
    "\t- setup.py + MANIFEST\n",
    "\t- version file\n",
    "- README\n",
    "\t- Links to notebook in colab/binder/etc. \n",
    "- Examples in notebooks:\n",
    "\t- Used in README links\n",
    "\t- Tested in github actions.\n",
    "- Test in tests/*\n",
    "\t- Using pytest.\n",
    "\t- Used in github actions.\n",
    "- Github actions: yaml files in .github/workflows/*.yml\n",
    "\t- Check code quality\n",
    "\t- Run tests (fron tests/*.py) on various platform and python versions\n",
    "- Automated release of the pip package from github (need and account on pypi.org)\n",
    "\t- Make sure the tests pass.\n",
    "\t- Update the */version file\n",
    "\t- Trigger a release : https://docs.github.com/en/repositories/releasing-projects-on-github/managing-releases-in-a-repository\n",
    "- Legal stuff: LICENCE/AUTHOR/CONTRIBUTORS\n"
   ]
  },
  {
   "cell_type": "markdown",
   "metadata": {},
   "source": [
    "Compare to https://github.com/ecmwf/climetlab-demo-source/blob/master/climetlab_demo_source/__init__.py\n",
    "\n",
    "Compare to https://github.com/ecmwf-lab/climetlab-google-drive-source/blob/main/climetlab_google_drive_source/__init__.py"
   ]
  }
 ],
 "metadata": {
  "kernelspec": {
   "display_name": "Python 3 (ipykernel)",
   "language": "python",
   "name": "python3"
  },
  "language_info": {
   "codemirror_mode": {
    "name": "ipython",
    "version": 3
   },
   "file_extension": ".py",
   "mimetype": "text/x-python",
   "name": "python",
   "nbconvert_exporter": "python",
   "pygments_lexer": "ipython3",
   "version": "3.9.7"
  },
  "vscode": {
   "interpreter": {
    "hash": "5c7b89af1651d0b8571dde13640ecdccf7d5a6204171d6ab33e7c296e100e08a"
   }
  }
 },
 "nbformat": 4,
 "nbformat_minor": 4
}
