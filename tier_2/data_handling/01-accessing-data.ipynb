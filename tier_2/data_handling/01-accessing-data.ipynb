{
 "cells": [
  {
   "cell_type": "markdown",
   "metadata": {},
   "source": [
    "# Accessing data with CliMetLab\n",
    "\n",
    "Here are a few examples on how to get data into python using CliMetLab.\n",
    "\n",
    "More examples can be found in the CliMetLab documentation (https://climetlab.readthedocs.io/en/latest/examples.html)."
   ]
  },
  {
   "cell_type": "markdown",
   "metadata": {},
   "source": [
    "## How to run this exercise\n",
    "\n",
    "This exercise is in the form of a [Jupyter notebook](https://jupyter.org/). It can be \"run\" in a number of free cloud based environments (see two options below). These require no installation. When you click on one of the links below ([`Open in Colab`](https://colab.research.google.com/github/ecmwf-projects/mooc-machine-learning-weather-climate/blob/main/tier_2/data_handling/01-accessing-data.ipynb) or [`Launch in Deepnote`](https://deepnote.com/launch?url=https://github.com/ecmwf-projects/mooc-machine-learning-weather-climate/blob/main/tier_2/data_handling/01-accessing-data.ipynb)) you will be prompted to create a free account, after which you will see the same page you see here. You can run each block of code by selecting shift+control repeatedly, or by selecting the \"play\" icon. \n",
    "\n",
    "Advanced users may wish to run this exercise on their own computers by first installing [Python](https://www.python.org/downloads/), [Jupyter](https://jupyter.org/install) and [CliMetLab](https://climetlab.readthedocs.io/en/latest/installing.html)."
   ]
  },
  {
   "cell_type": "markdown",
   "metadata": {},
   "source": [
    "<style>\n",
    "td, th {\n",
    "   border: 1px solid white;\n",
    "   border-collapse: collapse;\n",
    "}\n",
    "</style>\n",
    "<table align=\"left\">\n",
    "  <tr>\n",
    "    <th>Run the tutorial via free cloud platforms: </th>\n",
    "    <th><a href=\"https://colab.research.google.com/github/ecmwf-projects/mooc-machine-learning-weather-climate/blob/main/tier_2/data_handling/01-accessing-data.ipynb\">\n",
    "        <img src = \"https://colab.research.google.com/assets/colab-badge.svg\" alt = \"Colab\"></th>\n",
    "    <th><a href=\"https://deepnote.com/launch?url=https://github.com/ecmwf-projects/mooc-machine-learning-weather-climate/blob/main/tier_2/data_handling/01-accessing-data.ipynb\">\n",
    "        <img src = \"https://deepnote.com/buttons/launch-in-deepnote-small.svg\" alt = \"Kaggle\"></th>\n",
    "  </tr>\n",
    "</table>"
   ]
  },
  {
   "cell_type": "markdown",
   "metadata": {},
   "source": [
    "## Loading various sources\n",
    "\n",
    "Now let's begin exploring data with CliMetLab. We will start by loading various \"sources\". A source is a \"something providing data\". It needs some parameters to define the actual location of the data. For instance, a source can be a URL, a remote or local server, a database, or a file, etc.\n",
    "\n",
    "Below are a few examples of using ``cml.load_source()``.\n",
    "\n",
    "Notice how: \n",
    "- The API to retrieve the data is similar.\n",
    "- Credentials are requested if needed with appropriate help message, then saved locally.\n",
    "- Data is provided as pandas.Dataframe or xarray.Dataset."
   ]
  },
  {
   "cell_type": "markdown",
   "metadata": {},
   "source": [
    "Let's download some files for the examples:"
   ]
  },
  {
   "cell_type": "code",
   "execution_count": null,
   "metadata": {},
   "outputs": [],
   "source": [
    "!test -f test.grib || wget https://github.com/ecmwf/climetlab/raw/main/docs/examples/test.grib\n",
    "!test -f test.nc || wget https://github.com/ecmwf/climetlab/raw/main/docs/examples/test.nc\n",
    "!test -f temp.bufr || wget http://download.ecmwf.int/test-data/metview/gallery/temp.bufr"
   ]
  },
  {
   "cell_type": "markdown",
   "metadata": {},
   "source": [
    "## Install and import CliMetLab"
   ]
  },
  {
   "cell_type": "code",
   "execution_count": null,
   "metadata": {},
   "outputs": [],
   "source": [
    "!pip install climetlab"
   ]
  },
  {
   "cell_type": "code",
   "execution_count": null,
   "metadata": {},
   "outputs": [],
   "source": [
    "import climetlab as cml"
   ]
  },
  {
   "cell_type": "markdown",
   "metadata": {},
   "source": [
    "## Read data"
   ]
  },
  {
   "cell_type": "markdown",
   "metadata": {},
   "source": [
    "How to read data from a GRIB file:"
   ]
  },
  {
   "cell_type": "code",
   "execution_count": null,
   "metadata": {},
   "outputs": [],
   "source": [
    "ds = cml.load_source('file', 'test.grib')\n",
    "for field in ds:\n",
    "\tcml.plot_map(field)\n",
    "ds.to_xarray()"
   ]
  },
  {
   "cell_type": "markdown",
   "metadata": {},
   "source": [
    "How to read data from a netCDF file:"
   ]
  },
  {
   "cell_type": "code",
   "execution_count": null,
   "metadata": {},
   "outputs": [],
   "source": [
    "ds = cml.load_source('file', 'test.nc')\n",
    "for field in ds:\n",
    "\tcml.plot_map(field)\n",
    "ds.to_xarray()"
   ]
  },
  {
   "cell_type": "markdown",
   "metadata": {},
   "source": [
    "How to read data from a BUFR file:"
   ]
  },
  {
   "cell_type": "code",
   "execution_count": null,
   "metadata": {},
   "outputs": [],
   "source": [
    "ds = cml.load_source('file', 'temp.bufr')\n",
    "df = ds.to_pandas(\n",
    "    columns=(\n",
    "        \"stationNumber\",\n",
    "        \"latitude\",\n",
    "        \"longitude\",\n",
    "        \"data_datetime\",\n",
    "        \"pressure\",\n",
    "        \"airTemperature\",\n",
    "    ),\n",
    "    filters={},\n",
    ")\n",
    "cml.plot_map(df, projection=\"global\")\n",
    "df"
   ]
  },
  {
   "cell_type": "markdown",
   "metadata": {},
   "source": [
    "The purpose of the \"file\" source is to open **any** file, CliMetLab guesses what type of file is provided."
   ]
  },
  {
   "cell_type": "markdown",
   "metadata": {},
   "source": [
    "## Reading from a URL `cml.load_source(\"url\", URL)`"
   ]
  },
  {
   "cell_type": "markdown",
   "metadata": {},
   "source": [
    "How to read data from a GRIB URL (using the climetlab source \"url\")"
   ]
  },
  {
   "cell_type": "code",
   "execution_count": null,
   "metadata": {},
   "outputs": [],
   "source": [
    "ds = cml.load_source('url', 'https://github.com/ecmwf/climetlab/raw/main/docs/examples/test.grib')\n",
    "for field in ds:\n",
    "\tcml.plot_map(field)\n",
    "ds.to_xarray()"
   ]
  },
  {
   "cell_type": "code",
   "execution_count": null,
   "metadata": {},
   "outputs": [],
   "source": [
    "cml.load_source('url', 'https://github.com/ecmwf/climetlab/raw/main/docs/examples/test.nc')\n",
    "cml.load_source('url', 'http://download.ecmwf.int/test-data/metview/gallery/temp.bufr')"
   ]
  },
  {
   "cell_type": "code",
   "execution_count": null,
   "metadata": {},
   "outputs": [],
   "source": [
    "# Downloading 32M of data.\n",
    "URL = \"https://www.ncei.noaa.gov/data/international-best-track-archive-for-climate-stewardship-ibtracs/v04r00/access/csv/ibtracs.SP.list.v04r00.csv\"\n",
    "data = cml.load_source(\"url\", URL)\n",
    "pd = data.to_pandas()"
   ]
  },
  {
   "cell_type": "code",
   "execution_count": null,
   "metadata": {},
   "outputs": [],
   "source": [
    "uma = pd[pd.NAME == \"UMA:VELI\"]\n",
    "cml.plot_map(uma, style=\"cyclone-track\")"
   ]
  },
  {
   "cell_type": "markdown",
   "metadata": {},
   "source": [
    "As shown below, data can be read from different sources, the API is similar: \"load_source\" with keywords to specify the data requested."
   ]
  },
  {
   "cell_type": "code",
   "execution_count": null,
   "metadata": {},
   "outputs": [],
   "source": [
    "source = cml.load_source(\n",
    "    \"cds\",\n",
    "    \"reanalysis-era5-single-levels\",\n",
    "    variable=[\"2t\", \"msl\"],\n",
    "    product_type=\"reanalysis\",\n",
    "    area=[50, -50, 20, 50],\n",
    "    date=\"2011-12-02\", # [\"2011-12-02\", \"2011-12-03\"] for several dates\n",
    "    time=\"12:00\",\n",
    ")\n",
    "for s in source:\n",
    "    cml.plot_map(s)"
   ]
  },
  {
   "cell_type": "code",
   "execution_count": null,
   "metadata": {},
   "outputs": [],
   "source": [
    "source = cml.load_source(\n",
    "    \"mars\",\n",
    "    param=[\"2t\", \"msl\"],\n",
    "    levtype=\"sfc\",\n",
    "    area=[50, -50, 20, 50],\n",
    "    grid=[1, 1],\n",
    "    date=\"2011-12-02\",\n",
    "    \n",
    ")\n",
    "for s in source:\n",
    "    cml.plot_map(s)\n",
    "source.to_xarray()"
   ]
  },
  {
   "cell_type": "code",
   "execution_count": null,
   "metadata": {},
   "outputs": [],
   "source": [
    "source = cml.load_source(\n",
    "    \"ecmwf-open-data\",\n",
    "    param=[\"2t\", \"msl\"],\n",
    ")\n",
    "for s in source:\n",
    "    cml.plot_map(s, title=True)\n",
    "source.to_xarray()"
   ]
  },
  {
   "cell_type": "code",
   "execution_count": null,
   "metadata": {},
   "outputs": [],
   "source": [
    "source = cml.load_source(\n",
    "    \"mars\",\n",
    "    type=\"ofb\",\n",
    "    obsgroup=\"conv\",\n",
    "    time=\"12\",\n",
    "    format=\"odb\",\n",
    "    reportype=16001,\n",
    "    date=\"2020-05-18\",\n",
    ")\n",
    "pd = source.to_pandas()"
   ]
  },
  {
   "cell_type": "markdown",
   "metadata": {},
   "source": [
    "## Dataset\n",
    "\n",
    "A dataset is a clearly identified set of data. It has a name, can be cited, has documentation and, hopefully, somebody is maintaining it.\n",
    "\n",
    "A dataset is an object created using cml.load_dataset(name, arg1, arg2=..., ...)\n",
    "\n",
    "- The name is a string that uniquely identifies the dataset.\n",
    "- The argument(s) arg1 and keyword argument(s) arg2 can be used to specify a subset of the dataset.\n",
    "- The data can be accessed using methods such as to_xarray() or to_pandas() or other.\n",
    "- Relevant metadata are attached directly to the dataset to provide additional information such as a URL, a citation, licence, etc."
   ]
  },
  {
   "cell_type": "markdown",
   "metadata": {},
   "source": [
    "### Example dataset: hurricane database"
   ]
  },
  {
   "cell_type": "code",
   "execution_count": null,
   "metadata": {},
   "outputs": [],
   "source": [
    "atlantic = cml.load_dataset(\"hurricane-database\", bassin=\"atlantic\")\n",
    "df = atlantic.to_pandas()"
   ]
  },
  {
   "cell_type": "markdown",
   "metadata": {},
   "source": [
    "### Example dataset: part of ERA5 "
   ]
  },
  {
   "cell_type": "code",
   "execution_count": null,
   "metadata": {},
   "outputs": [],
   "source": [
    "import climetlab as cml\n",
    "ds = cml.load_dataset(\"era5-temperature\", \n",
    "#    period=(1979, 1999), # This can be long to run.\n",
    "    period=(1979, 1981),\n",
    "    domain=\"France\",\n",
    "    time=12,\n",
    " )"
   ]
  },
  {
   "cell_type": "code",
   "execution_count": null,
   "metadata": {},
   "outputs": [],
   "source": [
    "ds.to_xarray()"
   ]
  },
  {
   "cell_type": "markdown",
   "metadata": {},
   "source": [
    "Once the data has been downloaded. It is cached locally. The following will not download any additional data.\n"
   ]
  },
  {
   "cell_type": "code",
   "execution_count": null,
   "metadata": {},
   "outputs": [],
   "source": [
    "import climetlab as cml\n",
    "ds = cml.load_dataset(\"era5-temperature\", \n",
    "    period=1980,\n",
    "    domain=\"France\",\n",
    "    time=12,\n",
    " )"
   ]
  },
  {
   "cell_type": "markdown",
   "metadata": {},
   "source": [
    "If the dataset is not found, CliMetLab provides the list of available datasets:"
   ]
  },
  {
   "cell_type": "code",
   "execution_count": null,
   "metadata": {},
   "outputs": [],
   "source": [
    "import climetlab as cml\n",
    "cml.load_dataset('hurican-database-with-typo') # Fails"
   ]
  },
  {
   "cell_type": "markdown",
   "metadata": {},
   "source": [
    "\n",
    "Additional datasets are defined with python plugins (via pip install), more details on this process in the \"Dataset plugins\" notebook.\n",
    "\n",
    "More  examples can be found at (https://climetlab.readthedocs.io/en/latest/examples.html)."
   ]
  },
  {
   "cell_type": "markdown",
   "metadata": {},
   "source": [
    "## Exercises\n",
    "Find the mean temperature (2m temperature) in Italy in 1980, at 6am.\n"
   ]
  },
  {
   "cell_type": "markdown",
   "metadata": {},
   "source": [
    "**Solutions:**"
   ]
  },
  {
   "cell_type": "code",
   "execution_count": 13,
   "metadata": {},
   "outputs": [
    {
     "name": "stderr",
     "output_type": "stream",
     "text": [
      "2022-12-13 11:08:05,737 INFO Welcome to the CDS\n",
      "2022-12-13 11:08:05,738 INFO Sending request to https://cds.climate.copernicus.eu/api/v2/resources/reanalysis-era5-single-levels\n",
      "2022-12-13 11:08:05,793 INFO Request is queued\n",
      "2022-12-13 11:08:06,831 INFO Request is running\n",
      "2022-12-13 11:08:38,267 INFO Request is completed\n",
      "2022-12-13 11:08:38,268 INFO Downloading https://download-0017.copernicus-climate.eu/cache-compute-0017/cache/data1/adaptor.mars.internal-1670929685.99353-9453-18-be2b5584-5d61-461e-bca6-aa550874bc41.grib to /data/mafp/tmp-climetlab/cds-retriever-aa6308824a9555852822234e1accd9c9e28a360d7682a543c22c8dafa837e8e6.cache.tmp (2.8M)\n",
      "2022-12-13 11:08:38,655 INFO Download rate 7.4M/s   \n"
     ]
    },
    {
     "data": {
      "text/plain": [
       "284.1121520996094"
      ]
     },
     "execution_count": 13,
     "metadata": {},
     "output_type": "execute_result"
    }
   ],
   "source": [
    "import climetlab as cml\n",
    "data = cml.load_dataset(\"era5-temperature\", \n",
    "    period=1980,\n",
    "    domain=\"Italy\",\n",
    "    time=6,\n",
    ")\n",
    "ds = data.to_xarray()\n",
    "float(ds.mean().t2m)"
   ]
  }
 ],
 "metadata": {
  "kernelspec": {
   "display_name": "Python 3 (ipykernel)",
   "language": "python",
   "name": "python3"
  },
  "language_info": {
   "codemirror_mode": {
    "name": "ipython",
    "version": 3
   },
   "file_extension": ".py",
   "mimetype": "text/x-python",
   "name": "python",
   "nbconvert_exporter": "python",
   "pygments_lexer": "ipython3",
   "version": "3.9.7"
  },
  "vscode": {
   "interpreter": {
    "hash": "226ab9ac6f084e495b3088c03f24321f64639d10dfd5ea499ae65d6415b43a42"
   }
  }
 },
 "nbformat": 4,
 "nbformat_minor": 4
}
